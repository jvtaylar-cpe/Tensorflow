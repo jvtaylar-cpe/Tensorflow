{
  "cells": [
    {
      "cell_type": "markdown",
      "metadata": {
        "id": "z5H3JpYQj36t"
      },
      "source": [
        "# Class 01 - TensorFlow Fundamentals"
      ]
    },
    {
      "cell_type": "markdown",
      "metadata": {
        "id": "tjQxLLGZj36x"
      },
      "source": [
        "# Some Setup"
      ]
    },
    {
      "cell_type": "code",
      "execution_count": null,
      "metadata": {
        "colab": {
          "base_uri": "https://localhost:8080/"
        },
        "id": "7XiEhfXjj36y",
        "outputId": "a3a6b2a6-0cdc-4fea-925c-472a090a7e6c"
      },
      "outputs": [
        {
          "name": "stderr",
          "output_type": "stream",
          "text": [
            "WARNING:tensorflow:From /usr/local/lib/python3.10/dist-packages/tensorflow/python/compat/v2_compat.py:108: disable_resource_variables (from tensorflow.python.ops.variable_scope) is deprecated and will be removed in a future version.\n",
            "Instructions for updating:\n",
            "non-resource variables are not supported in the long term\n"
          ]
        }
      ],
      "source": [
        "import random\n",
        "import tensorflow as tf\n",
        "import numpy as np\n",
        "\n",
        "import tensorflow.compat.v1 as tf\n",
        "tf.disable_v2_behavior()"
      ]
    },
    {
      "cell_type": "markdown",
      "metadata": {
        "id": "QzpsXfGqj36z"
      },
      "source": [
        "# Computation Graphs"
      ]
    },
    {
      "cell_type": "markdown",
      "metadata": {
        "id": "kvDC2q9uj36z"
      },
      "source": [
        "The primary construct in the TensorFlow API is the \"computation graph\", or just \"graph.\" A computation graph is a useful way to illustrate the flow of data through multiple operations. Here's a basic example showing the graph for adding two numbers together:\n",
        "\n",
        "<img src=\"https://i.ibb.co/zNNGfZR/01.png\" width=40% />\n",
        "\n",
        "\n",
        "The arrows represent data flowing through through the graph (in this case the numbers 7, 3, and 10) while the nodes represent some form of computation (in this case addition).\n",
        "\n",
        "We can chain multiple of these computations together to form a more complex transformation of the data:\n",
        "\n",
        "<img src=\"https://i.ibb.co/CQFMbrJ/02.png\" width=60% />\n",
        "\n",
        "Here, the numbers 3 and 7 are sent to an addition operation and a multiplication operation. The outputs of both of these are then sent to a subtraction operation. There are a few ways to illustrate the above operations.\n",
        "\n",
        "* We could show this as a one-liner math equation, using parentheses to show the order of operations:\n",
        "\n",
        "$$\n",
        "output = \\left( 3 + 7 \\right) - \\left( 3 \\times 7 \\right) = -11\n",
        "$$\n",
        "\n",
        "* We could also define the separate operations as mathematical functions:\n",
        "\n",
        "$$\n",
        "\\begin{split}\n",
        "a(x, y) &= x + y \\\\\n",
        "b(x, y) &= x \\times y \\\\\n",
        "c(x, y) &= a(x, y) - b(x, y) \\\\ \\\\\n",
        "c(3, 7) &= a(3, 7) - b(3, 7) = -11\n",
        "\\end{split}\n",
        "$$\n",
        "\n",
        "* Programmatically, the previous equations could be created with something like this:"
      ]
    },
    {
      "cell_type": "code",
      "execution_count": null,
      "metadata": {
        "colab": {
          "base_uri": "https://localhost:8080/"
        },
        "id": "Z4EwGQpEj360",
        "outputId": "679a3b56-b751-4029-da61-f3a8498b5cb7"
      },
      "outputs": [
        {
          "data": {
            "text/plain": [
              "-11"
            ]
          },
          "execution_count": 2,
          "metadata": {},
          "output_type": "execute_result"
        }
      ],
      "source": [
        "def add(x, y):\n",
        "    return x + y\n",
        "\n",
        "def multiply(x, y):\n",
        "    return x * y\n",
        "\n",
        "def subtract(x, y):\n",
        "    return x - y\n",
        "\n",
        "x = 3\n",
        "y = 7\n",
        "a = add(x, y)\n",
        "b = multiply(x, y)\n",
        "c = subtract(a, b)\n",
        "\n",
        "c"
      ]
    },
    {
      "cell_type": "markdown",
      "metadata": {
        "id": "cpJQkL5Vj360"
      },
      "source": [
        "The data isn't just one and done, either; it can be reused multiple times throughout the computation:\n",
        "\n",
        "<img src=\"https://i.ibb.co/LQspNMt/03.png\" width=70%/>\n",
        "\n",
        "This graph is similar to the previous model, but now we're reusing the 3 by adding it back in at the end. The code might look like this:"
      ]
    },
    {
      "cell_type": "code",
      "execution_count": null,
      "metadata": {
        "colab": {
          "base_uri": "https://localhost:8080/"
        },
        "id": "qaBkzNIhj361",
        "outputId": "6ff713bd-d8c6-4684-e428-efcb57d9752f"
      },
      "outputs": [
        {
          "data": {
            "text/plain": [
              "-8"
            ]
          },
          "execution_count": 3,
          "metadata": {},
          "output_type": "execute_result"
        }
      ],
      "source": [
        "x = 3\n",
        "y = 7\n",
        "a = add(x, y)\n",
        "b = multiply(x, y)\n",
        "c = subtract(a, b)\n",
        "d = add(c, x)\n",
        "\n",
        "d"
      ]
    },
    {
      "cell_type": "markdown",
      "metadata": {
        "id": "2xbV5o96j361"
      },
      "source": [
        "# My First TensorFlow Graph"
      ]
    },
    {
      "cell_type": "markdown",
      "metadata": {
        "id": "sUMjsFmUj361"
      },
      "source": [
        "## Fundamental TensorFlow work flow"
      ]
    },
    {
      "cell_type": "markdown",
      "metadata": {
        "id": "00BExclSj361"
      },
      "source": [
        "This pattern will be used again and again throughout the course. When working with TensorFlow, your code will effectively be divided into two parts:\n",
        "\n",
        "1. Define a graph which contains your model\n",
        "2. Run the graph.  Two special cases are:\n",
        "  * Train the model\n",
        "  * Test/predict using the model"
      ]
    },
    {
      "cell_type": "markdown",
      "metadata": {
        "id": "Cd4AogJyj362"
      },
      "source": [
        "## Step 1: Define a computation graph"
      ]
    },
    {
      "cell_type": "code",
      "execution_count": null,
      "metadata": {
        "collapsed": true,
        "id": "RkOhDPadj362"
      },
      "outputs": [],
      "source": [
        "# tf.placeholder creates an \"input\" node\n",
        "# we MUST give it value when we run our model\n",
        "# these can be data we want to learn from or\n",
        "# values of hyper-parameters for our model\n",
        "a = tf.placeholder(tf.int32, name=\"input_a\")\n",
        "b = tf.placeholder(tf.int32, name=\"input_b\")\n",
        "\n",
        "# tf.add creates an addition node\n",
        "c = tf.add(a, b, name=\"add\")\n",
        "\n",
        "# tf.multiply creates a multiplication node\n",
        "d = tf.multiply(a, b, name=\"multiply\")\n",
        "\n",
        "# Add up the results of the previous two nodes\n",
        "out = tf.add(c, d, name=\"output\")"
      ]
    },
    {
      "cell_type": "markdown",
      "metadata": {
        "id": "WcrNRV53j362"
      },
      "source": [
        "## Step 2: Run the graph"
      ]
    },
    {
      "cell_type": "code",
      "execution_count": null,
      "metadata": {
        "colab": {
          "base_uri": "https://localhost:8080/"
        },
        "id": "QZiMgmKDj362",
        "outputId": "afae7f55-3557-4de4-ae88-4341b59402c7"
      },
      "outputs": [
        {
          "name": "stdout",
          "output_type": "stream",
          "text": [
            "(4*3) + (4+3) = 19\n"
          ]
        }
      ],
      "source": [
        "\n",
        "# Start a session\n",
        "sess = tf.Session()\n",
        "\n",
        "# Create a \"feed_dict\" dictionary to define input values\n",
        "# Keys to dictionary are handles to our placeholders\n",
        "# Values to dictionary are values we'd like to feed in\n",
        "feed_dict = { a: 4, b: 3 }\n",
        "\n",
        "# Execute the graph using `sess.run()`, which takes two parameters:\n",
        "# - `fetches` lists which node(s) we'd like to receive as output\n",
        "# - `feed_dict` feeds in key-value pairs to input to various nodes\n",
        "# In this case, we pass in the Tensor `out` as our value for `fetches`,\n",
        "# which causes the value for out to be computed and returned\n",
        "result = sess.run(out, feed_dict=feed_dict)\n",
        "\n",
        "# Print the value of `out`\n",
        "print(\"({0}*{1}) + ({0}+{1}) = {2!s}\".format(feed_dict[a], feed_dict[b], result))\n",
        "\n",
        "# Close the session\n",
        "sess.close()"
      ]
    },
    {
      "cell_type": "markdown",
      "metadata": {
        "id": "4Ydncy93j362"
      },
      "source": [
        "# TensorFlow Core API"
      ]
    },
    {
      "cell_type": "markdown",
      "metadata": {
        "id": "N7CqOslFj362"
      },
      "source": [
        "Our main TensorFlow objects are:\n",
        "\n",
        "  * `tf.Tensor`\n",
        "  * `tf.Operation`\n",
        "  * `tf.Graph`\n",
        "  * `tf.Session`\n",
        "  * `tf.Variable`\n",
        "\n",
        "We will introduce each of these below."
      ]
    },
    {
      "cell_type": "markdown",
      "metadata": {
        "id": "kW1gJ6Ehj362"
      },
      "source": [
        "## `Tensor` Objects"
      ]
    },
    {
      "cell_type": "markdown",
      "metadata": {
        "id": "axqLb3Oej362"
      },
      "source": [
        "##### What is a Tensor?\n",
        "\n",
        "Tensors, for our purposes, are $n$-dimensional matrices (or tables of numbers).\n",
        "  * a 0-dimensional tensor is a single number (or scalar)\n",
        "  * a 1-dimensional tensor is a vector, and\n",
        "  * a 2-dimensional tensor is a standard matrix.\n",
        "  \n",
        "Higher dimensional tensors are simply referred to as an *$n$-D tensor*.  Every value that is passed through a TensorFlow model is a `Tensor` object - the TensorFlow representation of a tensor.\n",
        "\n",
        "##### Defining tensors by hand\n",
        "\n",
        "You can define `Tensor` object values in two main ways:\n",
        "\n",
        "1. Native Python types\n",
        "2. NumPy arrays (recommended)\n",
        "\n",
        "Both of these can be automatically converted into TensorFlow `Tensor` objects."
      ]
    },
    {
      "cell_type": "markdown",
      "metadata": {
        "id": "Yiq7727nj363"
      },
      "source": [
        "### Tensors from Native Python"
      ]
    },
    {
      "cell_type": "code",
      "execution_count": null,
      "metadata": {
        "colab": {
          "base_uri": "https://localhost:8080/"
        },
        "id": "3puVxPWGj363",
        "outputId": "3058a68d-3af5-44b7-b366-2c417cb09fed"
      },
      "outputs": [
        {
          "name": "stdout",
          "output_type": "stream",
          "text": [
            "Tensor(\"Const:0\", shape=(), dtype=int32)\n",
            "Tensor(\"Const_1:0\", shape=(3,), dtype=int32)\n",
            "Tensor(\"Const_2:0\", shape=(3, 2), dtype=int32)\n",
            "Tensor(\"Const_3:0\", shape=(3, 3, 2), dtype=int32)\n"
          ]
        }
      ],
      "source": [
        "# 0-D tensor (scalar)\n",
        "t_0d_py = 4\n",
        "\n",
        "# 1-D tensor (vector)\n",
        "t_1d_py = [1, 2, 3]\n",
        "\n",
        "# 2-D tensor (matrix)\n",
        "t_2d_py = [[1, 2],\n",
        "           [3, 4],\n",
        "           [5, 6]]\n",
        "\n",
        "# 3-D tensor\n",
        "t_3d_py = [[[0, 0], [0, 1], [0, 2]],\n",
        "           [[1, 0], [1, 1], [1, 2]],\n",
        "           [[2, 0], [2, 1], [2, 2]]]\n",
        "\n",
        "python_defined_tensors = [t_0d_py, t_1d_py, t_2d_py, t_3d_py]\n",
        "\n",
        "# tf.constant creates a tf.Tensor from a fixed value\n",
        "# you can read more here:\n",
        "#  https://www.tensorflow.org/api_docs/python/tf/constant\n",
        "for pdt in python_defined_tensors:\n",
        "    print(tf.constant(pdt))"
      ]
    },
    {
      "cell_type": "markdown",
      "metadata": {
        "id": "wipBYZQej363"
      },
      "source": [
        "Interestingly, we haven't *run* this constant tensor yet.  We've only defined it.  And, it knows a little bit about itself:  its shape.  We'll get into these details in just a bit."
      ]
    },
    {
      "cell_type": "markdown",
      "metadata": {
        "id": "LCG9Xvqjj363"
      },
      "source": [
        "### NumPy Arrays\n",
        "\n",
        "Pretty much the same as native Python, but with the `numpy.array` function wrapping it:"
      ]
    },
    {
      "cell_type": "code",
      "execution_count": null,
      "metadata": {
        "colab": {
          "base_uri": "https://localhost:8080/"
        },
        "id": "TeOzMASkj363",
        "outputId": "ed2071a0-432b-4422-8a27-d97d8d108625"
      },
      "outputs": [
        {
          "name": "stdout",
          "output_type": "stream",
          "text": [
            "Tensor(\"Const_4:0\", shape=(), dtype=int32)\n",
            "Tensor(\"Const_5:0\", shape=(3,), dtype=int64)\n",
            "Tensor(\"Const_6:0\", shape=(3, 2), dtype=float32)\n",
            "Tensor(\"Const_7:0\", shape=(3, 3, 2), dtype=int32)\n"
          ]
        }
      ],
      "source": [
        "# 0-D tensor (scalar)\n",
        "t_0d_np = np.array(4, dtype=np.int32)\n",
        "\n",
        "# 1-D tensor (vector)\n",
        "t_1d_np = np.array([1, 2, 3], dtype=np.int64)\n",
        "\n",
        "# 2-D tensor (matrix)\n",
        "t_2d_np = np.array([[1, 2],\n",
        "                    [3, 4],\n",
        "                    [5, 6]],\n",
        "                   dtype=np.float32)\n",
        "\n",
        "# 3-D tensor\n",
        "t_3d_np = np.array([[[0, 0], [0, 1], [0, 2]],\n",
        "                    [[1, 0], [1, 1], [1, 2]],\n",
        "                    [[2, 0], [2, 1], [2, 2]]],\n",
        "                   dtype=np.int32)\n",
        "\n",
        "numpy_defined_tensors = [t_0d_np, t_1d_np, t_2d_np, t_3d_np]\n",
        "\n",
        "for ndt in numpy_defined_tensors:\n",
        "    print(tf.constant(ndt))"
      ]
    },
    {
      "cell_type": "markdown",
      "metadata": {
        "id": "K2h1Jj2Oj363"
      },
      "source": [
        "### Data Types\n",
        "\n",
        "In general, using `np.array` (or `np.asarray`) is the recommended way of defining values for tensors by hand in TensorFlow. The primary reason for this is that you can specify the exact data type (`dtype`) you'd like the values to be represented with. For example, there's no way to specify a 32-bit integer vs a 64-bit integer with native Python. TensorFlow is tightly integrated with NumPy, and most TensorFlow data types have a corresponding NumPy `dtype`:\n",
        "\n",
        "TensorFlow type | Equivalent NumPy type | Description\n",
        "--- | --- | ---\n",
        "`tf.float32` | `np.float32` | 32 bit floating point.\n",
        "`tf.float64` | `np.float64` | 64 bit floating point.\n",
        "`tf.int8` | `np.int8` | 8 bit signed integer.\n",
        "`tf.int16` | `np.int16` | 16 bit signed integer.\n",
        "`tf.int32` | `np.int32` | 32 bit signed integer.\n",
        "`tf.int64` | `np.int64` | 64 bit signed integer.\n",
        "`tf.uint8` | `np.uint8` | 8 bit unsigned integer.\n",
        "`tf.string` | N/A | String type, as byte array\n",
        "`tf.bool` | `np.bool` | Boolean.\n",
        "`tf.complex64` | `np.complex64` | Complex number made of two 32 bit floating point numbers: real and imaginary parts.\n",
        "`tf.qint8` | N/A | 8 bit signed integer used in quantized Ops.\n",
        "`tf.qint32` | N/A | 32 bit signed integer used in quantized Ops.\n",
        "`tf.quint8` | N/A | 8 bit unsigned integer used in quantized Ops.\n",
        "\n",
        "Slightly modified version of [this table](https://www.tensorflow.org/versions/master/resources/dims_types.html#data_types)."
      ]
    },
    {
      "cell_type": "code",
      "execution_count": null,
      "metadata": {
        "colab": {
          "base_uri": "https://localhost:8080/"
        },
        "id": "t9emMlAbj363",
        "outputId": "6a007d7a-a416-4c3f-9875-dd456a996e46"
      },
      "outputs": [
        {
          "data": {
            "text/plain": [
              "True"
            ]
          },
          "execution_count": 10,
          "metadata": {},
          "output_type": "execute_result"
        }
      ],
      "source": [
        "# Just to show that they are equivalent\n",
        "(tf.float32 == np.float32 and\n",
        " tf.float64 == np.float64 and\n",
        " tf.int8 == np.int8 and\n",
        " tf.int16 == np.int16 and\n",
        " tf.int32 == np.int32 and\n",
        " tf.int64 == np.int64 and\n",
        " tf.uint8 == np.uint8 and\n",
        " tf.bool == bool and\n",
        " tf.complex64 == np.complex64)"
      ]
    },
    {
      "cell_type": "markdown",
      "metadata": {
        "id": "MIiEj-_Mj363"
      },
      "source": [
        "The primary exception to when you should _not_ use `np.array()` is when defining a `Tensor` of strings. When using strings, just use standard Python lists. It's best practice to include the `b` prefix in front of strings to explicitly define the strings as byte-arrays:"
      ]
    },
    {
      "cell_type": "code",
      "execution_count": null,
      "metadata": {
        "collapsed": true,
        "id": "v0jk30qVj364"
      },
      "outputs": [],
      "source": [
        "tf_string_tensor = [b\"first\", b\"second\", b\"third\"]"
      ]
    },
    {
      "cell_type": "markdown",
      "metadata": {
        "id": "muj9fQewj364"
      },
      "source": [
        "### Tensor Shapes\n",
        "\n",
        "A common term in TensorFlow is a `Tensor` object's \"shape\". A shape value is a list or tuple containing an ordered set of integers. The _i_-th  element in the list describes the length of the _i_-th dimension in the tensor, while the number of elements in the list defines the dimensionality of the tensor. Here are some examples:"
      ]
    },
    {
      "cell_type": "code",
      "execution_count": null,
      "metadata": {
        "collapsed": true,
        "id": "YDNeyL5Ij364"
      },
      "outputs": [],
      "source": [
        "# Shapes corresponding to scalars\n",
        "# Note that either lists or tuples can be used\n",
        "s_0d_list = []\n",
        "s_0d_tuple = ()\n",
        "\n",
        "# Shape corresponding to a vector of length 3\n",
        "s_1d = [3]\n",
        "\n",
        "# Shape corresponding to a 2-by-3 matrix\n",
        "s_2d = (2, 3)\n",
        "\n",
        "# Shape corresponding to a 4-by-4-by-4 cube tensor\n",
        "s_3d = [4, 4, 4]"
      ]
    },
    {
      "cell_type": "markdown",
      "metadata": {
        "id": "2pNNKm1aj364"
      },
      "source": [
        "You can use the `tf.shape` Operation to get the shape value of `Tensor` objects:"
      ]
    },
    {
      "cell_type": "code",
      "execution_count": null,
      "metadata": {
        "colab": {
          "base_uri": "https://localhost:8080/"
        },
        "id": "yKW6u6apj364",
        "outputId": "ffd838f9-5523-4da7-91a9-d5e5b8254750"
      },
      "outputs": [
        {
          "name": "stdout",
          "output_type": "stream",
          "text": [
            "In NumPy:\n",
            "(2, 3, 4)\n",
            "[[[ 0  1  2  3]\n",
            "  [ 4  5  6  7]\n",
            "  [ 8  9 10 11]]\n",
            "\n",
            " [[12 13 14 15]\n",
            "  [16 17 18 19]\n",
            "  [20 21 22 23]]]\n",
            "In TensorFlow:\n",
            "Tensor(\"Shape:0\", shape=(3,), dtype=int32)\n",
            "Shape of tensor: [2 3 4]\n"
          ]
        }
      ],
      "source": [
        "# note, np.ndarray.reshape takes its args \"flattened\" out\n",
        "#       (not in a list or tuple)\n",
        "arr = np.arange(24).reshape(2,3,4)\n",
        "print(\"In NumPy:\", arr.shape,arr,sep=\"\\n\")\n",
        "\n",
        "# tf.shape creates an Operation that returns a Tensor\n",
        "#          the returned Tensor is the shape of arr\n",
        "shape_op = tf.shape(arr)\n",
        "print(\"In TensorFlow:\", shape_op, sep=\"\\n\")\n",
        "\n",
        "shape = tf.Session().run(shape_op)\n",
        "print(\"Shape of tensor: \" + str(shape))"
      ]
    },
    {
      "cell_type": "markdown",
      "metadata": {
        "id": "rl1MOqwAj364"
      },
      "source": [
        "As mentioned, defining an `Operation` doesn't *execute* it.  To execute it, we have to run it.  We do that with a helper `tf.Session`.  More to come below!  Quick quiz: is `shape_op` a 3D tensor or 1D tensor?"
      ]
    },
    {
      "cell_type": "markdown",
      "metadata": {
        "id": "l20xldU1j364"
      },
      "source": [
        "## TensorFlow `Operation` Objects"
      ]
    },
    {
      "cell_type": "markdown",
      "metadata": {
        "id": "lxqh5kZaj364"
      },
      "source": [
        "TensorFlow `Operation` objects (commonly abbreviated as \"Ops\" in the TensorFlow documentation) are nodes that perform compuation on or with Tensor objects. They take as input zero or more `Tensor` objects (or objects that can be converted into tensors- see the previous section), and output zero or more tensors. These outputs can then either be returned to the client or passed on to further Operations. Operations are the fundamental building blocks of any TensorFlow graph- their calculations represent nodes, and data flowing from one to the next represents edges.\n",
        "\n",
        "We've already seen a few `Operation` examples: `tf.add` and `tf.multiply` are classic examples: they both take in two tensors and output one. When given non-scalar values, they do addition/multiplication element-wise.  Also, `tf.constant` and `tf.shape` are `Operation`s."
      ]
    },
    {
      "cell_type": "code",
      "execution_count": null,
      "metadata": {
        "collapsed": true,
        "id": "tgd3Vn8nj364"
      },
      "outputs": [],
      "source": [
        "# Initialize some arrays to be fed into tf.add as Tensors\n",
        "a = np.array([1, 2], dtype=np.int32)\n",
        "b = np.array([3, 4], dtype=np.int32)\n",
        "\n",
        "# tf.add creates an \"add\" Operation and places it in the graph\n",
        "# The variable c will be a handle to the output of the operation\n",
        "# This output can be passed on to other Operations!\n",
        "c = tf.add(a, b)"
      ]
    },
    {
      "cell_type": "markdown",
      "metadata": {
        "id": "TU-1alJej364"
      },
      "source": [
        "The important thing to remember is that Operations do not execute when created - that's the reason `tf.add([1, 2],[3, 4])` doesn't return the value `[4, 6]` immediately. It must be passed into a `Session.run()` method, which we'll cover in more detail below."
      ]
    },
    {
      "cell_type": "code",
      "execution_count": null,
      "metadata": {
        "colab": {
          "base_uri": "https://localhost:8080/"
        },
        "id": "KdNywdtnj365",
        "outputId": "ef49c16a-80cf-4687-cacf-5135e3865fb7"
      },
      "outputs": [
        {
          "name": "stdout",
          "output_type": "stream",
          "text": [
            "[4 6]\n"
          ]
        }
      ],
      "source": [
        "result = tf.Session().run(c)\n",
        "print(result)"
      ]
    },
    {
      "cell_type": "code",
      "execution_count": null,
      "metadata": {
        "colab": {
          "base_uri": "https://localhost:8080/"
        },
        "id": "M5-lX87Aj36_",
        "outputId": "4aecfa64-1226-4c57-a72f-615d3e807387"
      },
      "outputs": [
        {
          "data": {
            "text/plain": [
              "array([4, 6], dtype=int32)"
            ]
          },
          "execution_count": 16,
          "metadata": {},
          "output_type": "execute_result"
        }
      ],
      "source": [
        "# or, since we're in a notebook, we can just evaluate the result\n",
        "# (without explicitly needing to print it out)\n",
        "# note: that the returned value is a numpy array\n",
        "tf.Session().run(c)"
      ]
    },
    {
      "cell_type": "markdown",
      "metadata": {
        "id": "zVcLiAMHj36_"
      },
      "source": [
        "The majority of the TensorFlow API is Operations.  In addition to Operation-specific inputs, each Operation can take in a `name` parameter, which can help identify Operations in TensorBoard and other tools."
      ]
    },
    {
      "cell_type": "code",
      "execution_count": null,
      "metadata": {
        "collapsed": true,
        "id": "CJ9SeulEj36_"
      },
      "outputs": [],
      "source": [
        "c = tf.add(a, b, name=\"my_add_operation\")"
      ]
    },
    {
      "cell_type": "markdown",
      "metadata": {
        "id": "JAwPOBHfj36_"
      },
      "source": [
        "Getting into the habit of adding names to your Operations now will save you headaches later on."
      ]
    },
    {
      "cell_type": "markdown",
      "metadata": {
        "id": "AsEaDLSQj36_"
      },
      "source": [
        "## TensorFlow `Graph` Objects"
      ]
    },
    {
      "cell_type": "markdown",
      "metadata": {
        "id": "gbyyQOIej36_"
      },
      "source": [
        "When TensorFlow is imported into Python, it automatically creates a `Graph` object and makes it the default graph. You can create more graphs as well:"
      ]
    },
    {
      "cell_type": "code",
      "execution_count": null,
      "metadata": {
        "collapsed": true,
        "id": "dhMs40YPj36_"
      },
      "outputs": [],
      "source": [
        "# Create a new graph - constructor takes no parameters\n",
        "new_graph = tf.Graph()"
      ]
    },
    {
      "cell_type": "markdown",
      "metadata": {
        "id": "8sizv0zjj36_"
      },
      "source": [
        "However, operations (such as `tf.add` and `tf.multiply`) are added to the default graph when created. To add operations to your new graph, use a `with` statement along with the graph's `as_default()` method. This makes that graph the default while inside of the `with` block:"
      ]
    },
    {
      "cell_type": "code",
      "execution_count": null,
      "metadata": {
        "collapsed": true,
        "id": "f-DamaIFj37A"
      },
      "outputs": [],
      "source": [
        "with new_graph.as_default():\n",
        "    a = tf.add(3, 4)\n",
        "    b = tf.multiply(a, 2)"
      ]
    },
    {
      "cell_type": "markdown",
      "metadata": {
        "id": "NsyKdC4Bj37A"
      },
      "source": [
        "The default graph, other than being set to the default, is no different than any other `Graph`. If you need to get a handle to the default graph, use the `tf.get_default_graph` function:"
      ]
    },
    {
      "cell_type": "markdown",
      "metadata": {
        "id": "qqBr0NnNj37A"
      },
      "source": [
        "default_graph = tf.get_default_graph()"
      ]
    },
    {
      "cell_type": "markdown",
      "metadata": {
        "id": "lJWNx8xYj37A"
      },
      "source": [
        "Note: `get_default_graph()` will return whatever graph is set to the default, so if you are inside of a `with g.as_default()` block, `get_default_graph()` will return `g`:"
      ]
    },
    {
      "cell_type": "code",
      "execution_count": null,
      "metadata": {
        "colab": {
          "base_uri": "https://localhost:8080/"
        },
        "id": "ilXTKq94j37A",
        "outputId": "9b9a8d44-6588-47a4-c7a7-39e974fa0bb7"
      },
      "outputs": [
        {
          "name": "stdout",
          "output_type": "stream",
          "text": [
            "True\n"
          ]
        }
      ],
      "source": [
        "with new_graph.as_default():\n",
        "    print(new_graph is tf.get_default_graph())"
      ]
    },
    {
      "cell_type": "markdown",
      "metadata": {
        "id": "qx4DFnNSj37A"
      },
      "source": [
        "*Most TensorFlow models will not require more than one graph per script.*  So, often, you can simply use the default, implicit graph and be done. However, you may find multiple `Graph` instances useful when defining two independent models side-by-side. Additionally, there are mechanisms to export and import external models and load them in as `Graph` objects, which can allow you to feed the output of existing models into your new model (or vice versa). We won't be able to demonstrate these now, but see the TensorFlow API for more info:\n",
        "  * [`Graph.as_graph_def`](https://www.tensorflow.org/versions/master/api_docs/python/framework.html#Graph.as_graph_def)\n",
        "  * [`tf.import_graph_def`](https://www.tensorflow.org/versions/master/api_docs/python/framework.html#import_graph_def)"
      ]
    },
    {
      "cell_type": "markdown",
      "metadata": {
        "id": "WKqHgsO5j37A"
      },
      "source": [
        "## TensorFlow `Session`"
      ]
    },
    {
      "cell_type": "markdown",
      "metadata": {
        "id": "DR64GiXWj37A"
      },
      "source": [
        "### Creating Sessions\n",
        "\n",
        "As we saw earlier, `Session` objects are used to launch and execute graphs. Earlier, we created a session using its default constructor, but it has three optional parameters:\n",
        "\n",
        "* `target` specifies the execution engine to use. By default it is the empty string, which causes the Session to use the standard local execution context. Typically, this parameter is only used when using TensorFlow in a distributed setting\n",
        "* `graph` specifies which `Graph` object the session should run. The default value is `None`, which causes the `Session` to load in the default graph. Sessions only manage one graph at a time, so executing more than one graph will require more than one session\n",
        "* `config` allows users to specify advanced options to configure the session. We won't cover this today, but some things that are available are: limiting the number of CPUs/GPUs used, logging options, and changing optimization of the graph"
      ]
    },
    {
      "cell_type": "code",
      "execution_count": null,
      "metadata": {
        "collapsed": true,
        "id": "3eFvG79yj37A"
      },
      "outputs": [],
      "source": [
        "# A session with the default graph launched\n",
        "# Equivalent to: tf.Session(graph=tf.get_default_graph())\n",
        "sess_default = tf.Session()\n",
        "\n",
        "# A session with new_graph launched\n",
        "new_graph = tf.Graph()\n",
        "sess_new = tf.Session(graph=new_graph)"
      ]
    },
    {
      "cell_type": "markdown",
      "metadata": {
        "id": "1HdeXBcDj37A"
      },
      "source": [
        "### Running Sessions\n",
        "\n",
        "The most important method of a `Session` is its `run()` function. Earlier in this notebook, we saw basic usage of the two primary parameters to `run()`: `fetches` and `feed_dict`.\n",
        "\n",
        "##### Retrieving information: `fetches`\n",
        "\n",
        "`fetches` expects a list of `Tensor` and/or `Operation` handles (or just a single `Tensor`/`Operation`). The list specifies what computations we would like TensorFlow to run, as well as what we'd like `run()` to output:"
      ]
    },
    {
      "cell_type": "code",
      "execution_count": null,
      "metadata": {
        "colab": {
          "base_uri": "https://localhost:8080/"
        },
        "id": "0jCk8ZFEj37A",
        "outputId": "64506486-4142-4c2c-dfbb-fb5eb4a8d40a"
      },
      "outputs": [
        {
          "data": {
            "text/plain": [
              "5"
            ]
          },
          "execution_count": 34,
          "metadata": {},
          "output_type": "execute_result"
        }
      ],
      "source": [
        "# equiv:  tf.Session().run(tf.add(3,2))\n",
        "sess_default.run(tf.add(3,2))"
      ]
    },
    {
      "cell_type": "markdown",
      "metadata": {
        "id": "WIA0nk3gj37B"
      },
      "source": [
        "TensorFlow will only perform calculations necessary to compute the values specified in `fetches`, so it won't waste time if you only need to run a small part of a large, complicated graph.\n",
        "\n",
        "##### Sending information: `feed_dict`\n",
        "\n",
        "`feed_dict` is an optional parameter to `run`, but it becomes *required* when placeholder nodes are included. We saw it used to feed input data to placeholders, but `feed_dict` can actually send values to any node. The keys to the dictionary should be handles to `Tensor` objects (usually outputs of Operations), and the values should be replacement data:"
      ]
    },
    {
      "cell_type": "code",
      "execution_count": null,
      "metadata": {
        "colab": {
          "base_uri": "https://localhost:8080/"
        },
        "id": "KpqYS_q_j37B",
        "outputId": "5b87ea1e-71a6-4284-8706-2f5f5ccb9bb6"
      },
      "outputs": [
        {
          "name": "stdout",
          "output_type": "stream",
          "text": [
            "35\n",
            "75\n"
          ]
        }
      ],
      "source": [
        "# Create Operations, Tensors, etc (using the default graph)\n",
        "a = tf.add(3, 4)\n",
        "b = tf.multiply(a, 5)\n",
        "\n",
        "# Define a dictionary that says to replace the value of `a` with 15\n",
        "replacers = {a: 15}\n",
        "\n",
        "# Run the session without feed_dict\n",
        "# Prints (3 + 4) * 5 = 35\n",
        "print(sess_default.run(b))\n",
        "\n",
        "# Run the session, passing in `replace_dict` as the value to `feed_dict`\n",
        "# Prints 15 * 5 = 75 instead of 7 * 5 = 35\n",
        "print(sess_default.run(b, feed_dict=replacers))"
      ]
    },
    {
      "cell_type": "markdown",
      "metadata": {
        "id": "HfDyaGFEj37B"
      },
      "source": [
        "When using placeholders,TensorFlow insists that any calls to `Session.run()` include `feed_dict` values for all placeholders:"
      ]
    },
    {
      "cell_type": "code",
      "execution_count": null,
      "metadata": {
        "colab": {
          "base_uri": "https://localhost:8080/"
        },
        "id": "RGkKv6rcj37B",
        "outputId": "e0d87c63-9819-4eb1-983d-50e44f4ba2c8"
      },
      "outputs": [
        {
          "name": "stdout",
          "output_type": "stream",
          "text": [
            "The error:\n",
            " Graph execution error:\n",
            "\n",
            "Detected at node 'my_placeholder' defined at (most recent call last):\n",
            "    File \"/usr/lib/python3.10/runpy.py\", line 196, in _run_module_as_main\n",
            "    File \"/usr/lib/python3.10/runpy.py\", line 86, in _run_code\n",
            "    File \"/usr/local/lib/python3.10/dist-packages/colab_kernel_launcher.py\", line 37, in <module>\n",
            "    File \"/usr/local/lib/python3.10/dist-packages/traitlets/config/application.py\", line 992, in launch_instance\n",
            "    File \"/usr/local/lib/python3.10/dist-packages/ipykernel/kernelapp.py\", line 619, in start\n",
            "    File \"/usr/local/lib/python3.10/dist-packages/tornado/platform/asyncio.py\", line 195, in start\n",
            "    File \"/usr/lib/python3.10/asyncio/base_events.py\", line 603, in run_forever\n",
            "    File \"/usr/lib/python3.10/asyncio/base_events.py\", line 1909, in _run_once\n",
            "    File \"/usr/lib/python3.10/asyncio/events.py\", line 80, in _run\n",
            "    File \"/usr/local/lib/python3.10/dist-packages/tornado/ioloop.py\", line 685, in <lambda>\n",
            "    File \"/usr/local/lib/python3.10/dist-packages/tornado/ioloop.py\", line 738, in _run_callback\n",
            "    File \"/usr/local/lib/python3.10/dist-packages/tornado/gen.py\", line 825, in inner\n",
            "    File \"/usr/local/lib/python3.10/dist-packages/tornado/gen.py\", line 786, in run\n",
            "    File \"/usr/local/lib/python3.10/dist-packages/ipykernel/kernelbase.py\", line 361, in process_one\n",
            "    File \"/usr/local/lib/python3.10/dist-packages/tornado/gen.py\", line 234, in wrapper\n",
            "    File \"/usr/local/lib/python3.10/dist-packages/ipykernel/kernelbase.py\", line 261, in dispatch_shell\n",
            "    File \"/usr/local/lib/python3.10/dist-packages/tornado/gen.py\", line 234, in wrapper\n",
            "    File \"/usr/local/lib/python3.10/dist-packages/ipykernel/kernelbase.py\", line 539, in execute_request\n",
            "    File \"/usr/local/lib/python3.10/dist-packages/tornado/gen.py\", line 234, in wrapper\n",
            "    File \"/usr/local/lib/python3.10/dist-packages/ipykernel/ipkernel.py\", line 302, in do_execute\n",
            "    File \"/usr/local/lib/python3.10/dist-packages/ipykernel/zmqshell.py\", line 539, in run_cell\n",
            "    File \"/usr/local/lib/python3.10/dist-packages/IPython/core/interactiveshell.py\", line 2975, in run_cell\n",
            "    File \"/usr/local/lib/python3.10/dist-packages/IPython/core/interactiveshell.py\", line 3030, in _run_cell\n",
            "    File \"/usr/local/lib/python3.10/dist-packages/IPython/core/async_helpers.py\", line 78, in _pseudo_sync_runner\n",
            "    File \"/usr/local/lib/python3.10/dist-packages/IPython/core/interactiveshell.py\", line 3257, in run_cell_async\n",
            "    File \"/usr/local/lib/python3.10/dist-packages/IPython/core/interactiveshell.py\", line 3473, in run_ast_nodes\n",
            "    File \"/usr/local/lib/python3.10/dist-packages/IPython/core/interactiveshell.py\", line 3553, in run_code\n",
            "    File \"<ipython-input-36-6105b004ae7f>\", line 1, in <cell line: 1>\n",
            "Node: 'my_placeholder'\n",
            "You must feed a value for placeholder tensor 'my_placeholder' with dtype int32\n",
            "\t [[{{node my_placeholder}}]]\n"
          ]
        }
      ],
      "source": [
        "a = tf.placeholder(tf.int32, name=\"my_placeholder\")\n",
        "b = tf.add(a, 3)\n",
        "\n",
        "# This raises an error (with a LONG error message, so we\n",
        "# use try-except to catch it and print out just a portion)\n",
        "try:\n",
        "    sess_default.run(b)\n",
        "except tf.errors.InvalidArgumentError as e:\n",
        "    print(\"The error:\\n\", e.message)"
      ]
    },
    {
      "cell_type": "code",
      "execution_count": null,
      "metadata": {
        "colab": {
          "base_uri": "https://localhost:8080/"
        },
        "id": "_YTnWQJzj37B",
        "outputId": "85068633-bb56-4860-ba26-751a6cafbf13"
      },
      "outputs": [
        {
          "name": "stdout",
          "output_type": "stream",
          "text": [
            "11\n"
          ]
        }
      ],
      "source": [
        "a = tf.placeholder(tf.int32, name=\"my_placeholder\")\n",
        "b = tf.add(a, 3)\n",
        "\n",
        "# Create feed dictionary\n",
        "feed_dict = {a: 8}\n",
        "\n",
        "# Now it works!\n",
        "print(sess_default.run(b, feed_dict=feed_dict))"
      ]
    },
    {
      "cell_type": "code",
      "execution_count": null,
      "metadata": {
        "collapsed": true,
        "id": "uBKfQ5Wxj37B"
      },
      "outputs": [],
      "source": [
        "# Closing out the Sessions we opened up\n",
        "sess_default.close()\n",
        "sess_new.close()"
      ]
    },
    {
      "cell_type": "markdown",
      "metadata": {
        "id": "wSuWoMrzj37B"
      },
      "source": [
        "## TensorFlow `Variable` Objects\n",
        "\n",
        "The last fundamental TensorFlow class is the `Variable`. A TensorFlow `Variable` has persistent state across multiple calls to `Session.run()`, which means that learned parameters in machine learning models are Variables. We can create a Variable with a starting value of 0 like so:"
      ]
    },
    {
      "cell_type": "code",
      "execution_count": null,
      "metadata": {
        "collapsed": true,
        "id": "Tcf4WzUMj37B"
      },
      "outputs": [],
      "source": [
        "my_var = tf.Variable(0, name=\"my_var\")"
      ]
    },
    {
      "cell_type": "markdown",
      "metadata": {
        "id": "RdZvEeqXj37B"
      },
      "source": [
        "However, even though the object has been created, the value of the `Variable` has to be initialized separately with either of the `tf.variables_initializer()` or, more commonly, `tf.global_variables_initializer()` Operations. Remember that Operations must be passed into `Session.run()` to be executed:"
      ]
    },
    {
      "cell_type": "code",
      "execution_count": null,
      "metadata": {
        "collapsed": true,
        "id": "yrqYeRSbj37B"
      },
      "outputs": [],
      "source": [
        "sess = tf.Session()\n",
        "init = tf.global_variables_initializer()\n",
        "sess.run(init)"
      ]
    },
    {
      "cell_type": "markdown",
      "metadata": {
        "id": "-dkZTVUzj37B"
      },
      "source": [
        "Having value initialization separated from object creation allows us to reinitialize the variable later if we'd like.\n",
        "\n",
        "*Note: `tf.global_variables_initializer()` used to be named `tf.initialize_all_variables()`, and `tf.variables_initializer()` used to be called `tf.initialize_variables()`.* These were renamed just before version 1.0.0 of TensorFlow, so if you follow older tutorials, you may need to update these functions.\n",
        "\n",
        "Now that the Variable is initialized, we can tweak it's value! Let's do some basic incrementing with the `Variable.assign()` method:"
      ]
    },
    {
      "cell_type": "code",
      "execution_count": null,
      "metadata": {
        "colab": {
          "base_uri": "https://localhost:8080/"
        },
        "id": "UUZZEDzXj37B",
        "outputId": "5ca4bf78-8917-4d9f-e699-b00b2f5d63aa"
      },
      "outputs": [
        {
          "name": "stdout",
          "output_type": "stream",
          "text": [
            "1 2 3 4 5 6 7 8 9 10 "
          ]
        }
      ],
      "source": [
        "increment = my_var.assign(my_var + 1)\n",
        "\n",
        "for i in range(10):\n",
        "    print(sess.run(increment), end=\" \")"
      ]
    },
    {
      "cell_type": "markdown",
      "metadata": {
        "id": "8XigQrgtj37C"
      },
      "source": [
        "You may notice that if you run the previous code multiple times in the notebook (i.e., rerun the prior cell a few times in a row), the value persists and continues to climb. The Variable's state is maintained by the Session object, and the state will persist unless either the session is close, the Variable is re-initialized, or a new value is assigned to the Variable."
      ]
    },
    {
      "cell_type": "code",
      "execution_count": null,
      "metadata": {
        "colab": {
          "base_uri": "https://localhost:8080/"
        },
        "id": "ic9LzBoLj37C",
        "outputId": "ccfc8f9d-75e4-441a-d24e-52e3017807cd"
      },
      "outputs": [
        {
          "name": "stdout",
          "output_type": "stream",
          "text": [
            "1 2 3 4 5 6 7 8 9 10 "
          ]
        }
      ],
      "source": [
        "# Re-initialize variables\n",
        "sess.run(init)\n",
        "\n",
        "# Start incrementing, beginning from 0 again\n",
        "for i in range(10):\n",
        "    print(sess.run(increment), end=\" \")"
      ]
    },
    {
      "cell_type": "markdown",
      "metadata": {
        "id": "bKpgzplnj37C"
      },
      "source": [
        "##### Trainable Variables\n",
        "\n",
        "There are several optional parameters in the `Variable` constructor, but one to pay close attention to is `trainable`. It takes in a boolean value, which defaults to `True`, and specifies to TensorFlow whether the built-in optimization functions (which we will cover in a separate notebook) should affect this `Variable`. **If a `Variable` in you model should _not_ be adjusted during gradient descent, make sure to set its `trainable` parameter to `False`**"
      ]
    },
    {
      "cell_type": "markdown",
      "metadata": {
        "id": "kIcxhS4Hj37C"
      },
      "source": [
        "# Exercise 1"
      ]
    },
    {
      "cell_type": "markdown",
      "metadata": {
        "id": "-Fef02P7j37C"
      },
      "source": [
        "##### Part 1\n",
        "Create a TensorFlow `Graph` that is based on the following image:\n",
        "\n",
        "<img src=\"https://i.ibb.co/HhVsjfq/04.png\" width=70%/>\n",
        "\n",
        "[Use TensorFlow's API guide for math operations](https://www.tensorflow.org/api_guides/python/math_ops) to find Operations you don't know.  You'll want to look in the section called \"Reduction\".  If you are confused about how to give inputs to a reduction Operation, don't get too fancy.  Remember, a Python list (of Python lists/scalars *or* of `Tensor`s) can be used to create another input `Tensor`.\n",
        "\n",
        "##### Part 2\n",
        "\n",
        "Once you've created the graph, use a `Session` to run the graph and confirm the following input/output pairs:\n",
        "\n",
        "|In | Out|\n",
        "|---|----|\n",
        "|1, 2, 3| 14|\n",
        "|-1, -2, 3| 2|\n",
        "|123, 456, 789| 44669304 |\n",
        "\n",
        "##### Part 3\n",
        "Finally, use `tf.summary.FileWriter` to output the `Graph` to disk and double check that your model resembles the above image in TensorBoard (the image reads from left to right, TensorBoard displays them from bottom to top."
      ]
    },
    {
      "cell_type": "markdown",
      "metadata": {
        "id": "iOVDvRopj37C"
      },
      "source": [
        "## Solution 1"
      ]
    },
    {
      "cell_type": "markdown",
      "metadata": {
        "id": "rmJNG43Hj37C"
      },
      "source": [
        "##### Part 1"
      ]
    },
    {
      "cell_type": "code",
      "execution_count": null,
      "metadata": {
        "collapsed": true,
        "id": "41pukxeyj37C"
      },
      "outputs": [],
      "source": [
        "new_graph = tf.Graph()\n",
        "with new_graph.as_default():\n",
        "    in_1 = tf.placeholder(tf.int32, name=\"in_1\")\n",
        "    in_2 = tf.placeholder(tf.int32, name=\"in_2\")\n",
        "    in_3 = tf.placeholder(tf.int32, name=\"in_3\")\n",
        "\n",
        "    mul_1 = tf.multiply(in_1, in_2, name=\"mul_1\")\n",
        "    mul_2 = tf.multiply(in_2, in_3, name=\"mul_2\")\n",
        "\n",
        "    stacked_prod_input = tf.stack([in_1, in_2, in_3])\n",
        "    prod_  = tf.reduce_prod(stacked_prod_input, name=\"prod\")\n",
        "    #prod_  = tf.reduce_prod([in_1, in_2, in_3], name=\"prod\")\n",
        "\n",
        "    stacked_sum_input = tf.stack([mul_1, prod_, mul_2])\n",
        "    sum_  = tf.reduce_sum(stacked_sum_input, name=\"sum\")"
      ]
    },
    {
      "cell_type": "markdown",
      "metadata": {
        "id": "d4pJQOcrj37C"
      },
      "source": [
        "##### Part 2"
      ]
    },
    {
      "cell_type": "code",
      "execution_count": null,
      "metadata": {
        "colab": {
          "base_uri": "https://localhost:8080/"
        },
        "id": "_HUniKw0j37C",
        "outputId": "234c2b67-71c3-4e74-a882-2ab766655675"
      },
      "outputs": [
        {
          "name": "stdout",
          "output_type": "stream",
          "text": [
            "(1, 2, 3) ---> 14\n",
            "(-1, -2, 3) ---> 2\n",
            "(123, 456, 789) ---> 44669304\n"
          ]
        }
      ],
      "source": [
        "ng_sess = tf.Session(graph=new_graph)\n",
        "for inputs in [(1, 2, 3),\n",
        "               (-1, -2, 3),\n",
        "               (123, 456, 789)]:\n",
        "    input_values = dict(zip([in_1, in_2, in_3], inputs))\n",
        "    output_values = ng_sess.run(fetches=sum_, feed_dict=input_values)\n",
        "    print(inputs, \"--->\", output_values)"
      ]
    }
  ],
  "metadata": {
    "accelerator": "GPU",
    "colab": {
      "gpuType": "T4",
      "provenance": []
    },
    "kernelspec": {
      "display_name": "Python 3",
      "name": "python3"
    },
    "language_info": {
      "codemirror_mode": {
        "name": "ipython",
        "version": 3
      },
      "file_extension": ".py",
      "mimetype": "text/x-python",
      "name": "python",
      "nbconvert_exporter": "python",
      "pygments_lexer": "ipython3",
      "version": "3.9.13"
    }
  },
  "nbformat": 4,
  "nbformat_minor": 0
}
